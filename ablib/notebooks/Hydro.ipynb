{
 "cells": [
  {
   "cell_type": "code",
   "execution_count": null,
   "metadata": {
    "collapsed": false
   },
   "outputs": [],
   "source": [
    "import requests\n",
    "import pandas as pd\n",
    "import numpy as np\n",
    "from requests import get\n",
    "import matplotlib as mpl\n",
    "import matplotlib.pyplot as plt\n",
    "\n",
    "#sensordata_url = 'sensoredweb.herokuapp.com'\n",
    "sensordata_url = '192.168.1.12:8000'\n",
    "\n",
    "def get_days_data(sn,mo,day):    \n",
    "    out = get('http://192.168.1.12:8000/sensordata/api/datavalue/sn/{3}/from/2015-{0}-{1}/to/2015-{0}-{2}/.json'.format(mo, day,day+1,sn), auth=('andrzej','admin'))\n",
    "    \n",
    "    if out.ok:\n",
    "        sensordata   = np.array(out.json())\n",
    "        dates        = sensordata[:,0] - 5 * 3600\n",
    "        data         = sensordata[:,1]    \n",
    "        dates_row    = np.array(dates).astype('datetime64[s]')\n",
    "    else:\n",
    "        print(out)\n",
    "        dates_row = 0\n",
    "        data = 0\n",
    "           \n",
    "    return [dates_row, data]\n",
    "\n",
    "def get_todays_data(sn):    \n",
    "    out = get('http://192.168.1.12:8000/sensordata/api/datavalue/sn/{}/today/.json'.format(sn), auth=('andrzej','admin'))\n",
    "    \n",
    "    if out.ok:\n",
    "        sensordata   = np.array(out.json())\n",
    "        dates        = sensordata[:,0] - 5 * 3600\n",
    "        data         = sensordata[:,1]    \n",
    "        dates_row    = np.array(dates).astype('datetime64[s]')\n",
    "    else:\n",
    "        print(out)\n",
    "        dates_row = 0\n",
    "        data = 0\n",
    "           \n",
    "    return [dates_row, data]\n",
    "\n",
    "\n"
   ]
  },
  {
   "cell_type": "code",
   "execution_count": null,
   "metadata": {
    "collapsed": true
   },
   "outputs": [],
   "source": [
    "#out          = req.get('http://{0}/sensordata/api/datavalue/sn/hydro_power/today/.json'.format(sensordata_url), auth=('andrzej','admin'))\n",
    "mo  = 12;\n",
    "day = 24;\n",
    "#sn  = \"18.1d.04\" # bedroom\n",
    "#sn  = \"dfront\"\n",
    "sn = \"hydro_power\"\n",
    "out = get('http://192.168.1.12:8000/sensordata/api/datavalue/sn/{3}/from/2015-{0}-{1}/to/2015-{0}-{2}/.json'.format(mo, day,day+1,sn), auth=('andrzej','admin'))\n",
    "sensordata   = np.array(out.json())\n",
    "dates        = sensordata[:,0] - 6 * 3600\n",
    "data         = sensordata[:,1]\n",
    "power        = sensordata[:,1]\n",
    "dates_row    = np.array(dates).astype('datetime64[s]')"
   ]
  },
  {
   "cell_type": "code",
   "execution_count": null,
   "metadata": {
    "collapsed": false
   },
   "outputs": [],
   "source": [
    "#out          = req.get('http://{0}/sensordata/api/datavalue/sn/hydro_power/today/.json'.format(sensordata_url), auth=('andrzej','admin'))\n",
    "day = 8;\n",
    "#sn  = \"18.1d.04\" # bedroom\n",
    "#sn  = \"dfront\"\n",
    "sn = \"hydro_power\"\n",
    "sn = \"1D.AD.86\"\n",
    "out = get('http://192.168.1.12:8000/sensordata/api/datavalue/sn/{0}/today/.json'.format(sn), auth=('andrzej','admin'))\n",
    "len(out.json())\n",
    "# sensordata   = np.array(out.json())\n",
    "# dates        = sensordata[:,0] - 6 * 3600\n",
    "# data         = sensordata[:,1]\n",
    "# power        = sensordata[:,1]\n",
    "# dates_row    = np.array(dates).astype('datetime64[s]')"
   ]
  },
  {
   "cell_type": "code",
   "execution_count": null,
   "metadata": {
    "collapsed": false
   },
   "outputs": [],
   "source": [
    "sn_list = [\"1D.AD.86\",\"09.8E.94\",\"18.98.AA\",\"18.1d.04\",\"16.83.87\",\"14.A1.28\"]\n",
    "sn = sn_list[0]\n",
    "sn = \"16.27.191.210.1.8.0.163\"\n",
    "out = get_todays_data(sn);\n",
    "out = get_days_data(sn,mo,day)\n",
    "out\n",
    "\n"
   ]
  },
  {
   "cell_type": "code",
   "execution_count": null,
   "metadata": {
    "collapsed": true
   },
   "outputs": [],
   "source": []
  },
  {
   "cell_type": "code",
   "execution_count": null,
   "metadata": {
    "collapsed": false
   },
   "outputs": [],
   "source": [
    "#plt.xkcd()\n",
    "mpl.rcParams.update(mpl.rcParamsDefault)\n",
    "mo = 12\n",
    "day = 24\n",
    "\n",
    "sn = \"hydro_power\"\n",
    "#sn = \"16.27.191.210.1.8.0.163\"\n",
    "#sn = \"16.154.63.211.1.8.0.58\"\n",
    "sn = \"16.48.184.210.1.8.0.188\"\n",
    "out = get_days_data(sn,mo,day)\n",
    "#out = get_todays_data(sn);\n",
    "ds = pd.Series(out[1], index=out[0])\n",
    "plt.xlabel('TIme [h]')\n",
    "plt.ylabel('Power [W]')\n",
    "#plt.ylim([-5, 105])\n",
    "plt.grid(b=True, which='major', color='g', linestyle='-')\n",
    "ds.plot(style='b-')\n",
    "plt.title('Power vs. Time, one Monday in November')\n",
    "#ax.xaxis.grid(True, which=\"major\", linestyle='-', color=major_grid_color) \n",
    "#plt.plot(dates_row, power)\n",
    "\n",
    "\n",
    "plt.show()"
   ]
  },
  {
   "cell_type": "code",
   "execution_count": null,
   "metadata": {
    "collapsed": false
   },
   "outputs": [],
   "source": [
    "mo  = 11\n",
    "day = 25\n",
    "sn_list = [\"1D.AD.86\",\"09.8E.94\",\"18.98.AA\",\"18.1d.04\",\"16.83.87\",\"14.A1.28\"]\n",
    "\n",
    "ii = 0\n",
    "for sn in sn_list:\n",
    "    out = get_days_data(sn,mo,day)\n",
    "    #out = get_todays_data(sn)\n",
    "    ds = pd.Series(out[1] + 100*ii, index=out[0])\n",
    "    ds.plot()\n",
    "    plt.hold('on')\n",
    "    ii = ii + 1\n",
    "\n",
    "#plt.ylim([-5, 105])\n",
    "plt.show()\n",
    "    \n"
   ]
  },
  {
   "cell_type": "code",
   "execution_count": null,
   "metadata": {
    "collapsed": false
   },
   "outputs": [],
   "source": [
    "sn = \"16.27.191.210.1.8.0.163\"\n",
    "out = get_todays_data(sn)\n",
    "ds = pd.Series(out[1], index=out[0])\n",
    "fig = plt.figure()\n",
    "ax1 = fig.add_subplot(211)\n",
    "ds.plot()\n",
    "\n",
    "ax1 = fig.add_subplot(212)\n",
    "sn = \"hydro_power\"\n",
    "out = get_todays_data(sn)\n",
    "ds = pd.Series(out[1], index=out[0])\n",
    "ds.plot()\n",
    "\n",
    "plt.show()"
   ]
  },
  {
   "cell_type": "code",
   "execution_count": null,
   "metadata": {
    "collapsed": false
   },
   "outputs": [],
   "source": [
    "mo  = 12\n",
    "day = 25\n",
    "sn = \"16.27.191.210.1.8.0.163\"\n",
    "out = get_days_data(sn,mo,day);\n",
    "ds = pd.Series((out[1]-15)*50, index=out[0])\n",
    "fig = plt.figure()\n",
    "ds.plot()\n",
    "plt.hold('on')\n",
    "sn = \"hydro_power\"\n",
    "out = get_days_data(sn,mo,day);\n",
    "ds = pd.Series(out[1], index=out[0])\n",
    "ds.plot()\n",
    "\n",
    "plt.show()"
   ]
  },
  {
   "cell_type": "code",
   "execution_count": null,
   "metadata": {
    "collapsed": false
   },
   "outputs": [],
   "source": [
    "mo  = 12\n",
    "day = 28\n",
    "sn_list = \"16.27.191.210.1.8.0.163\"\n",
    "fig = plt.figure()\n",
    "ax1 = fig.add_subplot(211)\n",
    "ii = 0\n",
    "for sn in sn_list:\n",
    "    #out = get_days_data(sn,day)\n",
    "    out = get_days_data(sn,mo,day);\n",
    "    #ds = pd.Series(out[1] + 100*ii, index=out[0])\n",
    "    ds = pd.Series(out[1], index=out[0])\n",
    "    ds.plot()\n",
    "    plt.hold('on')\n",
    "    ii = ii + 1\n",
    "\n",
    "ax1.grid(b=True)\n",
    "ax2 = fig.add_subplot(212)\n",
    "sn = \"hydro_power\"\n",
    "#out = get_days_data(sn,day)\n",
    "out = get_days_data(sn,mo,day);\n",
    "ds = pd.Series(out[1], index=out[0])\n",
    "plt.xlabel('TIme [h]')\n",
    "plt.ylabel('Power [W]')\n",
    "#plt.ylim([-5, 105])\n",
    "ds.plot(style='b-')\n",
    "ax2.grid(b=True)\n",
    "#plt.title('Power vs. Time, one Monday in November')\n",
    "\n",
    "plt.show()"
   ]
  }
 ],
 "metadata": {
  "kernelspec": {
   "display_name": "Python 3",
   "language": "python",
   "name": "python3"
  },
  "language_info": {
   "codemirror_mode": {
    "name": "ipython",
    "version": 3
   },
   "file_extension": ".py",
   "mimetype": "text/x-python",
   "name": "python",
   "nbconvert_exporter": "python",
   "pygments_lexer": "ipython3",
   "version": "3.4.3"
  }
 },
 "nbformat": 4,
 "nbformat_minor": 0
}
