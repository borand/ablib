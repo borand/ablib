{
 "cells": [
  {
   "cell_type": "code",
   "execution_count": 1,
   "metadata": {
    "collapsed": false
   },
   "outputs": [],
   "source": [
    "import requests\n",
    "import pandas as pd\n",
    "import numpy as np\n",
    "from requests import get\n",
    "import matplotlib as mpl\n",
    "import matplotlib.pyplot as plt\n",
    "\n",
    "#sensordata_url = 'sensoredweb.herokuapp.com'\n",
    "sensordata_url = '192.168.1.12:8000'\n",
    "\n",
    "def get_days_data(sn,mo,day):    \n",
    "    out = get('http://192.168.1.12:8000/sensordata/api/datavalue/sn/{3}/from/2015-{0}-{1}/to/2015-{0}-{2}/.json'.format(mo, day,day+1,sn), auth=('andrzej','admin'))\n",
    "    \n",
    "    if out.ok:\n",
    "        sensordata   = np.array(out.json())\n",
    "        dates        = sensordata[:,0] - 5 * 3600\n",
    "        data         = sensordata[:,1]    \n",
    "        dates_row    = np.array(dates).astype('datetime64[s]')\n",
    "    else:\n",
    "        print(out)\n",
    "        dates_row = 0\n",
    "        data = 0\n",
    "           \n",
    "    return [dates_row, data]\n",
    "\n",
    "def get_todays_data(sn):    \n",
    "    out = get('http://192.168.1.12:8000/sensordata/api/datavalue/sn/{}/today/.json'.format(sn), auth=('andrzej','admin'))\n",
    "    \n",
    "    if out.ok:\n",
    "        sensordata   = np.array(out.json())\n",
    "        dates        = sensordata[:,0] - 5 * 3600\n",
    "        data         = sensordata[:,1]    \n",
    "        dates_row    = np.array(dates).astype('datetime64[s]')\n",
    "    else:\n",
    "        print(out)\n",
    "        dates_row = 0\n",
    "        data = 0\n",
    "           \n",
    "    return [dates_row, data]\n",
    "\n",
    "\n"
   ]
  },
  {
   "cell_type": "code",
   "execution_count": 3,
   "metadata": {
    "collapsed": true
   },
   "outputs": [],
   "source": [
    "#out          = req.get('http://{0}/sensordata/api/datavalue/sn/hydro_power/today/.json'.format(sensordata_url), auth=('andrzej','admin'))\n",
    "mo  = 12;\n",
    "day = 24;\n",
    "#sn  = \"18.1d.04\" # bedroom\n",
    "#sn  = \"dfront\"\n",
    "sn = \"hydro_power\"\n",
    "out = get('http://192.168.1.12:8000/sensordata/api/datavalue/sn/{3}/from/2015-{0}-{1}/to/2015-{0}-{2}/.json'.format(mo, day,day+1,sn), auth=('andrzej','admin'))\n",
    "sensordata   = np.array(out.json())\n",
    "dates        = sensordata[:,0] - 6 * 3600\n",
    "data         = sensordata[:,1]\n",
    "power        = sensordata[:,1]\n",
    "dates_row    = np.array(dates).astype('datetime64[s]')"
   ]
  },
  {
   "cell_type": "code",
   "execution_count": 59,
   "metadata": {
    "collapsed": false
   },
   "outputs": [
    {
     "data": {
      "text/plain": [
       "0"
      ]
     },
     "execution_count": 59,
     "metadata": {},
     "output_type": "execute_result"
    }
   ],
   "source": [
    "#out          = req.get('http://{0}/sensordata/api/datavalue/sn/hydro_power/today/.json'.format(sensordata_url), auth=('andrzej','admin'))\n",
    "day = 8;\n",
    "#sn  = \"18.1d.04\" # bedroom\n",
    "#sn  = \"dfront\"\n",
    "sn = \"hydro_power\"\n",
    "sn = \"1D.AD.86\"\n",
    "out = get('http://192.168.1.12:8000/sensordata/api/datavalue/sn/{0}/today/.json'.format(sn), auth=('andrzej','admin'))\n",
    "len(out.json())\n",
    "# sensordata   = np.array(out.json())\n",
    "# dates        = sensordata[:,0] - 6 * 3600\n",
    "# data         = sensordata[:,1]\n",
    "# power        = sensordata[:,1]\n",
    "# dates_row    = np.array(dates).astype('datetime64[s]')"
   ]
  },
  {
   "cell_type": "code",
   "execution_count": null,
   "metadata": {
    "collapsed": false
   },
   "outputs": [],
   "source": [
    "sn_list = [\"1D.AD.86\",\"09.8E.94\",\"18.98.AA\",\"18.1d.04\",\"16.83.87\",\"14.A1.28\"]\n",
    "sn = sn_list[0]\n",
    "sn = \"16.27.191.210.1.8.0.163\"\n",
    "out = get_todays_data(sn);\n",
    "out = get_days_data(sn,mo,day)\n",
    "out\n",
    "\n"
   ]
  },
  {
   "cell_type": "code",
   "execution_count": 32,
   "metadata": {
    "collapsed": true
   },
   "outputs": [],
   "source": []
  },
  {
   "cell_type": "code",
   "execution_count": 2,
   "metadata": {
    "collapsed": false
   },
   "outputs": [],
   "source": [
    "#plt.xkcd()\n",
    "mpl.rcParams.update(mpl.rcParamsDefault)\n",
    "mo = 12\n",
    "day = 24\n",
    "\n",
    "sn = \"hydro_power\"\n",
    "#sn = \"16.27.191.210.1.8.0.163\"\n",
    "#sn = \"16.154.63.211.1.8.0.58\"\n",
    "sn = \"16.48.184.210.1.8.0.188\"\n",
    "out = get_days_data(sn,mo,day)\n",
    "#out = get_todays_data(sn);\n",
    "ds = pd.Series(out[1], index=out[0])\n",
    "plt.xlabel('TIme [h]')\n",
    "plt.ylabel('Power [W]')\n",
    "#plt.ylim([-5, 105])\n",
    "plt.grid(b=True, which='major', color='g', linestyle='-')\n",
    "ds.plot(style='b-')\n",
    "plt.title('Power vs. Time, one Monday in November')\n",
    "#ax.xaxis.grid(True, which=\"major\", linestyle='-', color=major_grid_color) \n",
    "#plt.plot(dates_row, power)\n",
    "\n",
    "\n",
    "plt.show()"
   ]
  },
  {
   "cell_type": "code",
   "execution_count": 12,
   "metadata": {
    "collapsed": false
   },
   "outputs": [
    {
     "ename": "IndexError",
     "evalue": "too many indices for array",
     "output_type": "error",
     "traceback": [
      "\u001b[1;31m---------------------------------------------------------------------------\u001b[0m",
      "\u001b[1;31mIndexError\u001b[0m                                Traceback (most recent call last)",
      "\u001b[1;32m<ipython-input-12-0d9f6041f36c>\u001b[0m in \u001b[0;36m<module>\u001b[1;34m()\u001b[0m\n\u001b[0;32m      5\u001b[0m \u001b[0mii\u001b[0m \u001b[1;33m=\u001b[0m \u001b[1;36m0\u001b[0m\u001b[1;33m\u001b[0m\u001b[0m\n\u001b[0;32m      6\u001b[0m \u001b[1;32mfor\u001b[0m \u001b[0msn\u001b[0m \u001b[1;32min\u001b[0m \u001b[0msn_list\u001b[0m\u001b[1;33m:\u001b[0m\u001b[1;33m\u001b[0m\u001b[0m\n\u001b[1;32m----> 7\u001b[1;33m     \u001b[0mout\u001b[0m \u001b[1;33m=\u001b[0m \u001b[0mget_days_data\u001b[0m\u001b[1;33m(\u001b[0m\u001b[0msn\u001b[0m\u001b[1;33m,\u001b[0m\u001b[0mmo\u001b[0m\u001b[1;33m,\u001b[0m\u001b[0mday\u001b[0m\u001b[1;33m)\u001b[0m\u001b[1;33m\u001b[0m\u001b[0m\n\u001b[0m\u001b[0;32m      8\u001b[0m     \u001b[1;31m#out = get_todays_data(sn)\u001b[0m\u001b[1;33m\u001b[0m\u001b[1;33m\u001b[0m\u001b[0m\n\u001b[0;32m      9\u001b[0m     \u001b[0mds\u001b[0m \u001b[1;33m=\u001b[0m \u001b[0mpd\u001b[0m\u001b[1;33m.\u001b[0m\u001b[0mSeries\u001b[0m\u001b[1;33m(\u001b[0m\u001b[0mout\u001b[0m\u001b[1;33m[\u001b[0m\u001b[1;36m1\u001b[0m\u001b[1;33m]\u001b[0m \u001b[1;33m+\u001b[0m \u001b[1;36m100\u001b[0m\u001b[1;33m*\u001b[0m\u001b[0mii\u001b[0m\u001b[1;33m,\u001b[0m \u001b[0mindex\u001b[0m\u001b[1;33m=\u001b[0m\u001b[0mout\u001b[0m\u001b[1;33m[\u001b[0m\u001b[1;36m0\u001b[0m\u001b[1;33m]\u001b[0m\u001b[1;33m)\u001b[0m\u001b[1;33m\u001b[0m\u001b[0m\n",
      "\u001b[1;32m<ipython-input-1-537b4cd69d52>\u001b[0m in \u001b[0;36mget_days_data\u001b[1;34m(sn, mo, day)\u001b[0m\n\u001b[0;32m     14\u001b[0m     \u001b[1;32mif\u001b[0m \u001b[0mout\u001b[0m\u001b[1;33m.\u001b[0m\u001b[0mok\u001b[0m\u001b[1;33m:\u001b[0m\u001b[1;33m\u001b[0m\u001b[0m\n\u001b[0;32m     15\u001b[0m         \u001b[0msensordata\u001b[0m   \u001b[1;33m=\u001b[0m \u001b[0mnp\u001b[0m\u001b[1;33m.\u001b[0m\u001b[0marray\u001b[0m\u001b[1;33m(\u001b[0m\u001b[0mout\u001b[0m\u001b[1;33m.\u001b[0m\u001b[0mjson\u001b[0m\u001b[1;33m(\u001b[0m\u001b[1;33m)\u001b[0m\u001b[1;33m)\u001b[0m\u001b[1;33m\u001b[0m\u001b[0m\n\u001b[1;32m---> 16\u001b[1;33m         \u001b[0mdates\u001b[0m        \u001b[1;33m=\u001b[0m \u001b[0msensordata\u001b[0m\u001b[1;33m[\u001b[0m\u001b[1;33m:\u001b[0m\u001b[1;33m,\u001b[0m\u001b[1;36m0\u001b[0m\u001b[1;33m]\u001b[0m \u001b[1;33m-\u001b[0m \u001b[1;36m5\u001b[0m \u001b[1;33m*\u001b[0m \u001b[1;36m3600\u001b[0m\u001b[1;33m\u001b[0m\u001b[0m\n\u001b[0m\u001b[0;32m     17\u001b[0m         \u001b[0mdata\u001b[0m         \u001b[1;33m=\u001b[0m \u001b[0msensordata\u001b[0m\u001b[1;33m[\u001b[0m\u001b[1;33m:\u001b[0m\u001b[1;33m,\u001b[0m\u001b[1;36m1\u001b[0m\u001b[1;33m]\u001b[0m\u001b[1;33m\u001b[0m\u001b[0m\n\u001b[0;32m     18\u001b[0m         \u001b[0mdates_row\u001b[0m    \u001b[1;33m=\u001b[0m \u001b[0mnp\u001b[0m\u001b[1;33m.\u001b[0m\u001b[0marray\u001b[0m\u001b[1;33m(\u001b[0m\u001b[0mdates\u001b[0m\u001b[1;33m)\u001b[0m\u001b[1;33m.\u001b[0m\u001b[0mastype\u001b[0m\u001b[1;33m(\u001b[0m\u001b[1;34m'datetime64[s]'\u001b[0m\u001b[1;33m)\u001b[0m\u001b[1;33m\u001b[0m\u001b[0m\n",
      "\u001b[1;31mIndexError\u001b[0m: too many indices for array"
     ]
    }
   ],
   "source": [
    "mo  = 11\n",
    "day = 25\n",
    "sn_list = [\"1D.AD.86\",\"09.8E.94\",\"18.98.AA\",\"18.1d.04\",\"16.83.87\",\"14.A1.28\"]\n",
    "\n",
    "ii = 0\n",
    "for sn in sn_list:\n",
    "    out = get_days_data(sn,mo,day)\n",
    "    #out = get_todays_data(sn)\n",
    "    ds = pd.Series(out[1] + 100*ii, index=out[0])\n",
    "    ds.plot()\n",
    "    plt.hold('on')\n",
    "    ii = ii + 1\n",
    "\n",
    "#plt.ylim([-5, 105])\n",
    "plt.show()\n",
    "    \n"
   ]
  },
  {
   "cell_type": "code",
   "execution_count": 3,
   "metadata": {
    "collapsed": false
   },
   "outputs": [],
   "source": [
    "sn = \"16.27.191.210.1.8.0.163\"\n",
    "out = get_todays_data(sn)\n",
    "ds = pd.Series(out[1], index=out[0])\n",
    "fig = plt.figure()\n",
    "ax1 = fig.add_subplot(211)\n",
    "ds.plot()\n",
    "\n",
    "ax1 = fig.add_subplot(212)\n",
    "sn = \"hydro_power\"\n",
    "out = get_todays_data(sn)\n",
    "ds = pd.Series(out[1], index=out[0])\n",
    "ds.plot()\n",
    "\n",
    "plt.show()"
   ]
  },
  {
   "cell_type": "code",
   "execution_count": 9,
   "metadata": {
    "collapsed": false
   },
   "outputs": [],
   "source": [
    "mo  = 12\n",
    "day = 25\n",
    "sn = \"16.27.191.210.1.8.0.163\"\n",
    "out = get_days_data(sn,mo,day);\n",
    "ds = pd.Series((out[1]-15)*50, index=out[0])\n",
    "fig = plt.figure()\n",
    "ds.plot()\n",
    "plt.hold('on')\n",
    "sn = \"hydro_power\"\n",
    "out = get_days_data(sn,mo,day);\n",
    "ds = pd.Series(out[1], index=out[0])\n",
    "ds.plot()\n",
    "\n",
    "plt.show()"
   ]
  },
  {
   "cell_type": "code",
   "execution_count": 33,
   "metadata": {
    "collapsed": false
   },
   "outputs": [
    {
     "ename": "IndexError",
     "evalue": "too many indices for array",
     "output_type": "error",
     "traceback": [
      "\u001b[1;31m---------------------------------------------------------------------------\u001b[0m",
      "\u001b[1;31mIndexError\u001b[0m                                Traceback (most recent call last)",
      "\u001b[1;32m<ipython-input-33-cdcfd171ab3a>\u001b[0m in \u001b[0;36m<module>\u001b[1;34m()\u001b[0m\n\u001b[0;32m      7\u001b[0m \u001b[1;32mfor\u001b[0m \u001b[0msn\u001b[0m \u001b[1;32min\u001b[0m \u001b[0msn_list\u001b[0m\u001b[1;33m:\u001b[0m\u001b[1;33m\u001b[0m\u001b[0m\n\u001b[0;32m      8\u001b[0m     \u001b[1;31m#out = get_days_data(sn,day)\u001b[0m\u001b[1;33m\u001b[0m\u001b[1;33m\u001b[0m\u001b[0m\n\u001b[1;32m----> 9\u001b[1;33m     \u001b[0mout\u001b[0m \u001b[1;33m=\u001b[0m \u001b[0mget_days_data\u001b[0m\u001b[1;33m(\u001b[0m\u001b[0msn\u001b[0m\u001b[1;33m,\u001b[0m\u001b[0mmo\u001b[0m\u001b[1;33m,\u001b[0m\u001b[0mday\u001b[0m\u001b[1;33m)\u001b[0m\u001b[1;33m;\u001b[0m\u001b[1;33m\u001b[0m\u001b[0m\n\u001b[0m\u001b[0;32m     10\u001b[0m     \u001b[1;31m#ds = pd.Series(out[1] + 100*ii, index=out[0])\u001b[0m\u001b[1;33m\u001b[0m\u001b[1;33m\u001b[0m\u001b[0m\n\u001b[0;32m     11\u001b[0m     \u001b[0mds\u001b[0m \u001b[1;33m=\u001b[0m \u001b[0mpd\u001b[0m\u001b[1;33m.\u001b[0m\u001b[0mSeries\u001b[0m\u001b[1;33m(\u001b[0m\u001b[0mout\u001b[0m\u001b[1;33m[\u001b[0m\u001b[1;36m1\u001b[0m\u001b[1;33m]\u001b[0m\u001b[1;33m,\u001b[0m \u001b[0mindex\u001b[0m\u001b[1;33m=\u001b[0m\u001b[0mout\u001b[0m\u001b[1;33m[\u001b[0m\u001b[1;36m0\u001b[0m\u001b[1;33m]\u001b[0m\u001b[1;33m)\u001b[0m\u001b[1;33m\u001b[0m\u001b[0m\n",
      "\u001b[1;32m<ipython-input-2-537b4cd69d52>\u001b[0m in \u001b[0;36mget_days_data\u001b[1;34m(sn, mo, day)\u001b[0m\n\u001b[0;32m     14\u001b[0m     \u001b[1;32mif\u001b[0m \u001b[0mout\u001b[0m\u001b[1;33m.\u001b[0m\u001b[0mok\u001b[0m\u001b[1;33m:\u001b[0m\u001b[1;33m\u001b[0m\u001b[0m\n\u001b[0;32m     15\u001b[0m         \u001b[0msensordata\u001b[0m   \u001b[1;33m=\u001b[0m \u001b[0mnp\u001b[0m\u001b[1;33m.\u001b[0m\u001b[0marray\u001b[0m\u001b[1;33m(\u001b[0m\u001b[0mout\u001b[0m\u001b[1;33m.\u001b[0m\u001b[0mjson\u001b[0m\u001b[1;33m(\u001b[0m\u001b[1;33m)\u001b[0m\u001b[1;33m)\u001b[0m\u001b[1;33m\u001b[0m\u001b[0m\n\u001b[1;32m---> 16\u001b[1;33m         \u001b[0mdates\u001b[0m        \u001b[1;33m=\u001b[0m \u001b[0msensordata\u001b[0m\u001b[1;33m[\u001b[0m\u001b[1;33m:\u001b[0m\u001b[1;33m,\u001b[0m\u001b[1;36m0\u001b[0m\u001b[1;33m]\u001b[0m \u001b[1;33m-\u001b[0m \u001b[1;36m5\u001b[0m \u001b[1;33m*\u001b[0m \u001b[1;36m3600\u001b[0m\u001b[1;33m\u001b[0m\u001b[0m\n\u001b[0m\u001b[0;32m     17\u001b[0m         \u001b[0mdata\u001b[0m         \u001b[1;33m=\u001b[0m \u001b[0msensordata\u001b[0m\u001b[1;33m[\u001b[0m\u001b[1;33m:\u001b[0m\u001b[1;33m,\u001b[0m\u001b[1;36m1\u001b[0m\u001b[1;33m]\u001b[0m\u001b[1;33m\u001b[0m\u001b[0m\n\u001b[0;32m     18\u001b[0m         \u001b[0mdates_row\u001b[0m    \u001b[1;33m=\u001b[0m \u001b[0mnp\u001b[0m\u001b[1;33m.\u001b[0m\u001b[0marray\u001b[0m\u001b[1;33m(\u001b[0m\u001b[0mdates\u001b[0m\u001b[1;33m)\u001b[0m\u001b[1;33m.\u001b[0m\u001b[0mastype\u001b[0m\u001b[1;33m(\u001b[0m\u001b[1;34m'datetime64[s]'\u001b[0m\u001b[1;33m)\u001b[0m\u001b[1;33m\u001b[0m\u001b[0m\n",
      "\u001b[1;31mIndexError\u001b[0m: too many indices for array"
     ]
    }
   ],
   "source": [
    "mo  = 12\n",
    "day = 28\n",
    "sn_list = \"16.27.191.210.1.8.0.163\"\n",
    "fig = plt.figure()\n",
    "ax1 = fig.add_subplot(211)\n",
    "ii = 0\n",
    "for sn in sn_list:\n",
    "    #out = get_days_data(sn,day)\n",
    "    out = get_days_data(sn,mo,day);\n",
    "    #ds = pd.Series(out[1] + 100*ii, index=out[0])\n",
    "    ds = pd.Series(out[1], index=out[0])\n",
    "    ds.plot()\n",
    "    plt.hold('on')\n",
    "    ii = ii + 1\n",
    "\n",
    "ax1.grid(b=True)\n",
    "ax2 = fig.add_subplot(212)\n",
    "sn = \"hydro_power\"\n",
    "#out = get_days_data(sn,day)\n",
    "out = get_days_data(sn,mo,day);\n",
    "ds = pd.Series(out[1], index=out[0])\n",
    "plt.xlabel('TIme [h]')\n",
    "plt.ylabel('Power [W]')\n",
    "#plt.ylim([-5, 105])\n",
    "ds.plot(style='b-')\n",
    "ax2.grid(b=True)\n",
    "#plt.title('Power vs. Time, one Monday in November')\n",
    "\n",
    "plt.show()"
   ]
  }
 ],
 "metadata": {
  "kernelspec": {
   "display_name": "Python 3",
   "language": "python",
   "name": "python3"
  },
  "language_info": {
   "codemirror_mode": {
    "name": "ipython",
    "version": 3
   },
   "file_extension": ".py",
   "mimetype": "text/x-python",
   "name": "python",
   "nbconvert_exporter": "python",
   "pygments_lexer": "ipython3",
   "version": "3.4.3"
  }
 },
 "nbformat": 4,
 "nbformat_minor": 0
}
