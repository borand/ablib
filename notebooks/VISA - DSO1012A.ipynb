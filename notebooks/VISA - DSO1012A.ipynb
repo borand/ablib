{
 "cells": [
  {
   "cell_type": "code",
   "execution_count": 55,
   "metadata": {
    "collapsed": false,
    "scrolled": true
   },
   "outputs": [],
   "source": [
    "import visa\n",
    "import requests\n",
    "import pandas as pd\n",
    "import numpy as np\n",
    "from requests import get\n",
    "import matplotlib as mpl\n",
    "import matplotlib.pyplot as plt\n",
    "\n",
    "rm = visa.ResourceManager()\n",
    "rm.list_resources()\n",
    "inst = rm.open_resource('USB0::0x0957::0x0588::CN49130394::0::INSTR')"
   ]
  },
  {
   "cell_type": "code",
   "execution_count": 191,
   "metadata": {
    "collapsed": false
   },
   "outputs": [
    {
     "name": "stdout",
     "output_type": "stream",
     "text": [
      "Agilent Technologies,DSO1012A,CN49130394,00.04.02\n",
      "\n",
      "MAXimum\n",
      "\n"
     ]
    },
    {
     "data": {
      "text/plain": [
       "(15, <StatusCode.success: 0>)"
      ]
     },
     "execution_count": 191,
     "metadata": {},
     "output_type": "execute_result"
    }
   ],
   "source": [
    "inst.write_termination = '\\n'\n",
    "x = inst.query(r'*IDN?')\n",
    "print(x)\n",
    "x = inst.query(':WAV:POIN:MODE?')\n",
    "print(x)\n",
    "inst.write(':WAV:POIN:MODE MAX')"
   ]
  },
  {
   "cell_type": "code",
   "execution_count": 149,
   "metadata": {
    "collapsed": false
   },
   "outputs": [
    {
     "data": {
      "text/plain": [
       "(16, <StatusCode.success: 0>)"
      ]
     },
     "execution_count": 149,
     "metadata": {},
     "output_type": "execute_result"
    }
   ],
   "source": []
  },
  {
   "cell_type": "code",
   "execution_count": 180,
   "metadata": {
    "collapsed": false
   },
   "outputs": [],
   "source": [
    "import re\n",
    "from time import sleep\n",
    "#nst.query(':WAV:SOUR CHAN1;')\n",
    "inst.write(':WAV:FORM ASCII')\n",
    "inst.write(':WAV:DATA? CHAN2')\n",
    "sleep(2)\n",
    "x = inst.read()\n",
    "out = x[0:10]\n",
    "\n",
    "expr = re.compile('\\#8(\\d{8})')\n",
    "found = expr.findall(out)\n",
    "num_of_bytes = int(found[0])\n",
    "num_of_bytes\n",
    "x = x[10:10+num_of_bytes]"
   ]
  },
  {
   "cell_type": "code",
   "execution_count": 200,
   "metadata": {
    "collapsed": false
   },
   "outputs": [
    {
     "name": "stdout",
     "output_type": "stream",
     "text": [
      "10240\n"
     ]
    }
   ],
   "source": [
    "import re\n",
    "from time import sleep\n",
    "#nst.query(':WAV:SOUR CHAN1;')\n",
    "inst.write(':STOP')\n",
    "inst.write(':WAV:POIN 20000')\n",
    "inst.write(':WAV:FORM BYTE')\n",
    "inst.write(':WAV:DATA? CHAN1')\n",
    "sleep(1)\n",
    "\n",
    "x = inst.read_raw()\n",
    "out = x[0:10].decode(\"utf-8\") \n",
    "\n",
    "expr = re.compile('\\#8(\\d{8})')\n",
    "found = expr.findall(out)\n",
    "num_of_bytes = int(found[0])\n",
    "num_of_bytes\n",
    "\n",
    "x = x[10:10+num_of_bytes]\n",
    "c1 = [-1*int(i) for i in x]\n",
    "\n",
    "inst.write(':WAV:DATA? CHAN2')\n",
    "sleep(1)\n",
    "\n",
    "x = inst.read_raw()\n",
    "out = x[0:10].decode(\"utf-8\") \n",
    "\n",
    "expr = re.compile('\\#8(\\d{8})')\n",
    "found = expr.findall(out)\n",
    "num_of_bytes = int(found[0])\n",
    "num_of_bytes\n",
    "\n",
    "x = x[10:10+num_of_bytes]\n",
    "c2 = [-1*int(i) for i in x]\n",
    "print(len(c1))"
   ]
  },
  {
   "cell_type": "code",
   "execution_count": 201,
   "metadata": {
    "collapsed": false
   },
   "outputs": [],
   "source": [
    "\n",
    "plt.plot(c1)\n",
    "plt.hold('on')\n",
    "plt.plot(c2)\n",
    "plt.show()\n"
   ]
  },
  {
   "cell_type": "code",
   "execution_count": 154,
   "metadata": {
    "collapsed": false
   },
   "outputs": [],
   "source": [
    "import numpy as np\n",
    "\n",
    "#plt.plot(x)\n",
    "#plt.show()"
   ]
  },
  {
   "cell_type": "code",
   "execution_count": 71,
   "metadata": {
    "collapsed": false
   },
   "outputs": [],
   "source": [
    "x = inst.write(':SINGLE')"
   ]
  },
  {
   "cell_type": "code",
   "execution_count": 72,
   "metadata": {
    "collapsed": false
   },
   "outputs": [
    {
     "data": {
      "text/plain": [
       "'600\\n'"
      ]
     },
     "execution_count": 72,
     "metadata": {},
     "output_type": "execute_result"
    }
   ],
   "source": [
    "x = inst.query(':WAV:POIN?')\n",
    "x"
   ]
  },
  {
   "cell_type": "code",
   "execution_count": 42,
   "metadata": {
    "collapsed": false
   },
   "outputs": [
    {
     "name": "stdout",
     "output_type": "stream",
     "text": [
      "BYTE,Error header!\n",
      "\n"
     ]
    }
   ],
   "source": [
    "#print(inst.query(':SYST:ERR?;'))\n",
    "print(inst.query(':WAV:FORM?;'))\n"
   ]
  }
 ],
 "metadata": {
  "kernelspec": {
   "display_name": "Python 3",
   "language": "python",
   "name": "python3"
  },
  "language_info": {
   "codemirror_mode": {
    "name": "ipython",
    "version": 3
   },
   "file_extension": ".py",
   "mimetype": "text/x-python",
   "name": "python",
   "nbconvert_exporter": "python",
   "pygments_lexer": "ipython3",
   "version": "3.4.3"
  }
 },
 "nbformat": 4,
 "nbformat_minor": 0
}
