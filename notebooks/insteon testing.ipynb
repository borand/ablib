{
 "cells": [
  {
   "cell_type": "code",
   "execution_count": 1,
   "metadata": {
    "collapsed": false
   },
   "outputs": [],
   "source": [
    "import redis\n",
    "import json\n",
    "devices = {\n",
    "#'19.74.73' : 'Serial PLM',\n",
    "'18.1d.04' : 'dining_room',\n",
    "'09.8E.94' : 'living_room',\n",
    "'18.98.AA' : 'livingroom_dimmer',\n",
    "'16.83.87' : 'livingroom_lamp_sw',\n",
    "'14.a1.28' : 'outdoor',\n",
    "'20.1f.11' : 'light',\n",
    "'1D.AD.86' : 'bedroom',\n",
    "# '1B.7A.50' : 'unused_se',\n",
    "}\n",
    "insteon_cmd_chan = 'cmd:insteon'\n",
    "device_by_location = {v: k for k, v in devices.items()}"
   ]
  },
  {
   "cell_type": "code",
   "execution_count": 3,
   "metadata": {
    "collapsed": true
   },
   "outputs": [],
   "source": [
    "r = redis.Redis(host='192.168.1.12')"
   ]
  },
  {
   "cell_type": "code",
   "execution_count": 7,
   "metadata": {
    "collapsed": false
   },
   "outputs": [
    {
     "data": {
      "text/plain": [
       "1"
      ]
     },
     "execution_count": 7,
     "metadata": {},
     "output_type": "execute_result"
    }
   ],
   "source": [
    "addr = '20.1f.11'\n",
    "msg  = {\"cmd\" : 'GetLightLevel', \"addr\" : '20.1f.11'}\n",
    "msg  = {\"cmd\" : 'GetStatusOfAllDevices'}\n",
    "#msg  = {\"cmd\" : 'SetSwOn', \"addr\" : '14.a1.28'}\n",
    "#msg  = {\"cmd\" : \"SetSwOff\", \"addr\" : \"20.1f.11\"}\n",
    "#msg  = {\"cmd\" : \"SetLightLevel\", \"addr\" : \"20.1f.11\",\"val\":0}\n",
    "r.publish(insteon_cmd_chan, json.dumps(msg))"
   ]
  },
  {
   "cell_type": "code",
   "execution_count": 39,
   "metadata": {
    "collapsed": false
   },
   "outputs": [
    {
     "data": {
      "text/plain": [
       "2"
      ]
     },
     "execution_count": 39,
     "metadata": {},
     "output_type": "execute_result"
    }
   ],
   "source": [
    "msg  = {\"cmd\" : \"SetSwOff\", \"addr\" : \"20.1f.11\"}\n",
    "r.publish(insteon_cmd_chan, json.dumps(msg))"
   ]
  },
  {
   "cell_type": "code",
   "execution_count": 7,
   "metadata": {
    "collapsed": false
   },
   "outputs": [
    {
     "data": {
      "text/plain": [
       "1"
      ]
     },
     "execution_count": 7,
     "metadata": {},
     "output_type": "execute_result"
    }
   ],
   "source": [
    "msg  = {\"cmd\" : \"SetSwOn\", \"addr\" : \"14.a1.28\"}\n",
    "msg  = {\"cmd\" : \"SetSwOff\", \"addr\" : \"20.1f.11\"}\n",
    "r.publish(insteon_cmd_chan, json.dumps(msg))"
   ]
  },
  {
   "cell_type": "code",
   "execution_count": 51,
   "metadata": {
    "collapsed": false
   },
   "outputs": [
    {
     "data": {
      "text/plain": [
       "3"
      ]
     },
     "execution_count": 51,
     "metadata": {},
     "output_type": "execute_result"
    }
   ],
   "source": [
    "import requests\n",
    "import random\n",
    "random.randint(0,10)\n"
   ]
  }
 ],
 "metadata": {
  "kernelspec": {
   "display_name": "Python 3",
   "language": "python",
   "name": "python3"
  },
  "language_info": {
   "codemirror_mode": {
    "name": "ipython",
    "version": 3
   },
   "file_extension": ".py",
   "mimetype": "text/x-python",
   "name": "python",
   "nbconvert_exporter": "python",
   "pygments_lexer": "ipython3",
   "version": "3.4.3"
  }
 },
 "nbformat": 4,
 "nbformat_minor": 0
}
